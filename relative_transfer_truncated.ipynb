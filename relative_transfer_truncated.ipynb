{
 "cells": [
  {
   "cell_type": "code",
   "execution_count": 1,
   "metadata": {},
   "outputs": [],
   "source": [
    "import numpy as np"
   ]
  },
  {
   "cell_type": "code",
   "execution_count": 2,
   "metadata": {},
   "outputs": [],
   "source": [
    "#function to calculate the relative transfer \n",
    "#mass is in keV, omega_wdm and h should be edited to match cdm inputs, but it's a weak dependence\n",
    "#2keV is a small enough mass to show clear truncation, with a halfmode at around 20 [h*Mpc**-1]\n",
    "def relative_transfer(k, mthermal=2.0,omega_wdm=0.12,h=0.6736):\n",
    "    alpha =  0.0437*mthermal**-1.188*(omega_wdm/0.12)**0.2463*(h/0.6736)**2.012\n",
    "    return (1.+(alpha*k)**(2.*1.049))**(-5./1.049)"
   ]
  },
  {
   "cell_type": "code",
   "execution_count": 3,
   "metadata": {},
   "outputs": [],
   "source": [
    "#example\n",
    "k_vec = np.logspace(-5,2,500) #edit with correct k vector\n",
    "T_cdm = np.ones(500) #edit with non-truncated transfer\n",
    "T_trunc = T_cdm*relative_transfer(k_vec) #this is the new truncated transfer function"
   ]
  }
 ],
 "metadata": {
  "kernelspec": {
   "display_name": "Python 3 (ipykernel)",
   "language": "python",
   "name": "python3"
  },
  "language_info": {
   "codemirror_mode": {
    "name": "ipython",
    "version": 3
   },
   "file_extension": ".py",
   "mimetype": "text/x-python",
   "name": "python",
   "nbconvert_exporter": "python",
   "pygments_lexer": "ipython3",
   "version": "3.9.16"
  }
 },
 "nbformat": 4,
 "nbformat_minor": 4
}
